{
  "cells": [
    {
      "cell_type": "markdown",
      "metadata": {
        "id": "view-in-github",
        "colab_type": "text"
      },
      "source": [
        "<a href=\"https://colab.research.google.com/github/rahulbaghel159/learning_journey/blob/main/MNIST.ipynb\" target=\"_parent\"><img src=\"https://colab.research.google.com/assets/colab-badge.svg\" alt=\"Open In Colab\"/></a>"
      ]
    },
    {
      "cell_type": "markdown",
      "metadata": {
        "id": "x_IfhzlTB-vK"
      },
      "source": [
        "> *Try to build a classifier for the MNIST dataset that achieves over 97% accuracy\n",
        "on the test set*\n",
        "\n",
        "\n"
      ]
    },
    {
      "cell_type": "code",
      "execution_count": null,
      "metadata": {
        "colab": {
          "base_uri": "https://localhost:8080/"
        },
        "id": "-Xzimd_mCL-g",
        "outputId": "af83c723-309b-40d5-fe3a-3fb7b9a1b0d3"
      },
      "outputs": [
        {
          "output_type": "execute_result",
          "data": {
            "text/plain": [
              "dict_keys(['data', 'target', 'frame', 'categories', 'feature_names', 'target_names', 'DESCR', 'details', 'url'])"
            ]
          },
          "metadata": {},
          "execution_count": 2
        }
      ],
      "source": [
        "# download dataset\n",
        "\n",
        "from sklearn.datasets import fetch_openml\n",
        "\n",
        "mnist = fetch_openml('mnist_784', version=1)\n",
        "mnist.keys()"
      ]
    },
    {
      "cell_type": "code",
      "execution_count": null,
      "metadata": {
        "id": "14Z_dqS7Cq4E"
      },
      "outputs": [],
      "source": [
        "# cast label to numbers\n",
        "\n",
        "import numpy as np\n",
        "\n",
        "X, y = mnist[\"data\"], mnist[\"target\"]\n",
        "\n",
        "y = y.astype(np.uint8)"
      ]
    },
    {
      "cell_type": "code",
      "execution_count": null,
      "metadata": {
        "id": "FZ6D0vk-C1MH"
      },
      "outputs": [],
      "source": [
        "# mnist data set is already split in training and test set\n",
        "\n",
        "X_train, X_test, y_train, y_test = X[:60000], X[60000:], y[:60000], y[60000:]"
      ]
    },
    {
      "cell_type": "code",
      "execution_count": null,
      "metadata": {
        "colab": {
          "base_uri": "https://localhost:8080/"
        },
        "id": "G79cGuBPDBXa",
        "outputId": "4b4e2663-9aa2-4aad-95a4-3071c651b066"
      },
      "outputs": [
        {
          "output_type": "execute_result",
          "data": {
            "text/plain": [
              "KNeighborsClassifier(n_neighbors=3)"
            ]
          },
          "metadata": {},
          "execution_count": 5
        }
      ],
      "source": [
        "# K neighbours descent classifier\n",
        "\n",
        "from sklearn.neighbors import KNeighborsClassifier\n",
        "\n",
        "kn_clf = KNeighborsClassifier(n_neighbors = 3)\n",
        "kn_clf.fit(X_train, y_train)"
      ]
    },
    {
      "cell_type": "code",
      "execution_count": null,
      "metadata": {
        "colab": {
          "base_uri": "https://localhost:8080/"
        },
        "id": "YJDcbLMzDyzL",
        "outputId": "a63006b3-a81b-4331-8d23-fe14582ec9e9"
      },
      "outputs": [
        {
          "output_type": "stream",
          "name": "stderr",
          "text": [
            "/usr/local/lib/python3.7/dist-packages/sklearn/base.py:451: UserWarning: X does not have valid feature names, but KNeighborsClassifier was fitted with feature names\n",
            "  \"X does not have valid feature names, but\"\n"
          ]
        },
        {
          "output_type": "execute_result",
          "data": {
            "text/plain": [
              "array([5], dtype=uint8)"
            ]
          },
          "metadata": {},
          "execution_count": 6
        }
      ],
      "source": [
        "kn_clf.predict([X.values[0]])"
      ]
    },
    {
      "cell_type": "code",
      "execution_count": null,
      "metadata": {
        "id": "ZOpJidWTEcWe"
      },
      "outputs": [],
      "source": [
        "# cross val predict\n",
        "\n",
        "from sklearn.model_selection import cross_val_predict\n",
        "\n",
        "y_train_pred = cross_val_predict(kn_clf, X_train, y_train, cv=3)"
      ]
    },
    {
      "cell_type": "code",
      "execution_count": null,
      "metadata": {
        "colab": {
          "base_uri": "https://localhost:8080/"
        },
        "id": "kxBiw7z8GM5X",
        "outputId": "f1aff899-76ea-4f33-ee94-ccf307269545"
      },
      "outputs": [
        {
          "output_type": "execute_result",
          "data": {
            "text/plain": [
              "array([[5884,    3,    3,    0,    1,    4,   18,    1,    5,    4],\n",
              "       [   3, 6708,    8,    1,    2,    1,    2,   10,    3,    4],\n",
              "       [  53,   56, 5706,   13,    9,    3,    8,   87,   16,    7],\n",
              "       [  11,   16,   38, 5898,    1,   68,    3,   34,   39,   23],\n",
              "       [   8,   59,    1,    0, 5634,    0,   12,    9,    3,  116],\n",
              "       [  24,   13,    7,   80,    8, 5195,   58,    5,   10,   21],\n",
              "       [  27,   13,    1,    0,    6,   18, 5850,    0,    3,    0],\n",
              "       [   5,   60,   14,    3,   22,    2,    0, 6091,    2,   66],\n",
              "       [  29,   76,   19,   83,   39,   97,   26,   14, 5416,   52],\n",
              "       [  18,   15,    7,   39,   57,   12,    3,   80,    9, 5709]])"
            ]
          },
          "metadata": {},
          "execution_count": 8
        }
      ],
      "source": [
        "# Confusion Matrix\n",
        "\n",
        "from sklearn.metrics import confusion_matrix \n",
        "\n",
        "confusion_matrix(y_train, y_train_pred)"
      ]
    },
    {
      "cell_type": "code",
      "execution_count": null,
      "metadata": {
        "colab": {
          "base_uri": "https://localhost:8080/"
        },
        "id": "0cxOsKF2GQXR",
        "outputId": "069e5ecb-d885-4c0f-d6d8-8ab903c415c3"
      },
      "outputs": [
        {
          "output_type": "stream",
          "name": "stdout",
          "text": [
            "0.9681833333333333\n",
            "0.9681833333333333\n"
          ]
        }
      ],
      "source": [
        "# Precision and Recall Score\n",
        "\n",
        "from sklearn.metrics import precision_score, recall_score\n",
        "\n",
        "print(precision_score(y_train, y_train_pred, average='micro'))\n",
        "print(recall_score(y_train, y_train_pred, average='micro'))"
      ]
    },
    {
      "cell_type": "code",
      "execution_count": 14,
      "metadata": {
        "colab": {
          "base_uri": "https://localhost:8080/"
        },
        "id": "eAoQrX-XHvf9",
        "outputId": "19c266cc-1bd3-43fc-8621-eef2ffea3fb9"
      },
      "outputs": [
        {
          "output_type": "stream",
          "name": "stdout",
          "text": [
            "Fitting 3 folds for each of 6 candidates, totalling 18 fits\n"
          ]
        },
        {
          "output_type": "stream",
          "name": "stderr",
          "text": [
            "/usr/local/lib/python3.7/dist-packages/joblib/externals/loky/process_executor.py:705: UserWarning: A worker stopped while some jobs were given to the executor. This can be caused by a too short worker timeout or by a memory leak.\n",
            "  \"timeout or by a memory leak.\", UserWarning\n"
          ]
        }
      ],
      "source": [
        "# Fine Tuning Model: Grid Search\n",
        "\n",
        "from sklearn.model_selection import GridSearchCV\n",
        "\n",
        "param_grid = {\n",
        "    'n_neighbors':[3,4,5],\n",
        "    'weights':['uniform', 'distance'],\n",
        "}\n",
        "\n",
        "knn_clf_1 = KNeighborsClassifier()\n",
        "\n",
        "grid_search = GridSearchCV(knn_clf_1, param_grid, verbose=1, cv=3, n_jobs=-1)\n",
        "\n",
        "grid_search_results = grid_search.fit(X_train, y_train)"
      ]
    },
    {
      "cell_type": "code",
      "execution_count": 15,
      "metadata": {
        "id": "r9PtM4ecJmNo",
        "colab": {
          "base_uri": "https://localhost:8080/"
        },
        "outputId": "6ba1c6cd-eb64-4e16-bf45-4189497117dd"
      },
      "outputs": [
        {
          "output_type": "execute_result",
          "data": {
            "text/plain": [
              "{'n_neighbors': 4, 'weights': 'distance'}"
            ]
          },
          "metadata": {},
          "execution_count": 15
        }
      ],
      "source": [
        "grid_search_results.best_params_"
      ]
    },
    {
      "cell_type": "code",
      "execution_count": 16,
      "metadata": {
        "id": "bMg9ScBGJo0w",
        "colab": {
          "base_uri": "https://localhost:8080/"
        },
        "outputId": "9e10c118-5142-4197-ce95-5ccf20a23d18"
      },
      "outputs": [
        {
          "output_type": "execute_result",
          "data": {
            "text/plain": [
              "KNeighborsClassifier(n_neighbors=4, weights='distance')"
            ]
          },
          "metadata": {},
          "execution_count": 16
        }
      ],
      "source": [
        "grid_search_results.best_estimator_"
      ]
    },
    {
      "cell_type": "code",
      "execution_count": 17,
      "metadata": {
        "id": "rlH-5zvcJzEl",
        "colab": {
          "base_uri": "https://localhost:8080/"
        },
        "outputId": "ec5ca194-e44e-4d19-bc56-fadff871da93"
      },
      "outputs": [
        {
          "output_type": "execute_result",
          "data": {
            "text/plain": [
              "0.9703500000000002"
            ]
          },
          "metadata": {},
          "execution_count": 17
        }
      ],
      "source": [
        "grid_search_results.best_score_"
      ]
    }
  ],
  "metadata": {
    "colab": {
      "provenance": [],
      "authorship_tag": "ABX9TyMFJhQmBOr1CSGhh7kLsMxe",
      "include_colab_link": true
    },
    "kernelspec": {
      "display_name": "Python 3",
      "name": "python3"
    },
    "language_info": {
      "name": "python"
    }
  },
  "nbformat": 4,
  "nbformat_minor": 0
}